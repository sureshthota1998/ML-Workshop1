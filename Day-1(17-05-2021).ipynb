{
 "cells": [
  {
   "cell_type": "markdown",
   "id": "3ea763a4",
   "metadata": {},
   "source": [
    "# ML Workshop\n",
    "## ML Workshop\n",
    "###### ML Workshop"
   ]
  },
  {
   "cell_type": "markdown",
   "id": "0eb1ddcc",
   "metadata": {},
   "source": [
    "### Welcome to machine learning online workshop\n",
    "- introduction to machine learning\n",
    "    - **machine learning** is a sub part of AI\n",
    "- types of ml\n",
    "    - supervised\n",
    "        - classification\n",
    "        - regression\n",
    "    - unsupervised\n",
    "        - clustering\n",
    "        - pca\n",
    "<img src=\"https://thumbor.forbes.com/thumbor/960x0/https%3A%2F%2Fspecials-images.forbesimg.com%2Fdam%2Fimageserve%2F966248982%2F960x0.jpg%3Ffit%3Dscale\">"
   ]
  },
  {
   "cell_type": "code",
   "execution_count": null,
   "id": "c425cf0b",
   "metadata": {},
   "outputs": [],
   "source": []
  }
 ],
 "metadata": {
  "kernelspec": {
   "display_name": "Python 3",
   "language": "python",
   "name": "python3"
  },
  "language_info": {
   "codemirror_mode": {
    "name": "ipython",
    "version": 3
   },
   "file_extension": ".py",
   "mimetype": "text/x-python",
   "name": "python",
   "nbconvert_exporter": "python",
   "pygments_lexer": "ipython3",
   "version": "3.8.8"
  }
 },
 "nbformat": 4,
 "nbformat_minor": 5
}
